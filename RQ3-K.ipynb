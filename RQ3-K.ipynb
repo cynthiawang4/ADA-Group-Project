{
 "cells": [
  {
   "cell_type": "markdown",
   "id": "e8dc562d",
   "metadata": {},
   "source": [
    "# CISC 351/372 Advanced Data Analytics Group Project\n",
    "\n",
    "## Group 8: Political Sentiment Analysis In Liberal and Conservative Reddit Communities\n",
    "\n",
    "### RQ3: How does the use of hyperbolic language differ between liberal and conservative Reddit communities? \n",
    "\n",
    "This notebook contains the code to answer the third research question."
   ]
  },
  {
   "cell_type": "markdown",
   "id": "526f465e",
   "metadata": {},
   "source": [
    "### Imports"
   ]
  },
  {
   "cell_type": "code",
   "execution_count": null,
   "id": "ef10e19d",
   "metadata": {},
   "outputs": [
    {
     "name": "stderr",
     "output_type": "stream",
     "text": [
      "[nltk_data] Downloading package punkt to\n",
      "[nltk_data]     C:\\Users\\krist\\AppData\\Roaming\\nltk_data...\n",
      "[nltk_data]   Package punkt is already up-to-date!\n"
     ]
    }
   ],
   "source": [
    "from joblib import Parallel, delayed\n",
    "from tqdm import tqdm\n",
    "import pandas as pd\n",
    "\n",
    "import nltk\n",
    "nltk.download('punkt')\n",
    "\n",
    "import json\n",
    "import pandas as pd\n",
    "\n",
    "import matplotlib.pyplot as plt\n",
    "import seaborn as sns\n",
    "\n",
    "from scipy.stats import ttest_ind\n"
   ]
  },
  {
   "cell_type": "markdown",
   "id": "31e9bb78",
   "metadata": {},
   "source": [
    "### Prepare Dataset"
   ]
  },
  {
   "cell_type": "code",
   "execution_count": 3,
   "id": "14e178da",
   "metadata": {},
   "outputs": [
    {
     "name": "stdout",
     "output_type": "stream",
     "text": [
      "   WordCount                                            article  \\\n",
      "0       1101  Retired US Army General Wesley Clark called fo...   \n",
      "1       1312  If a place isn't too far gone to start with, t...   \n",
      "2        550  On Palm Sunday, the Trust Women Wichita aborti...   \n",
      "3        762  CARACAS, Venezuela (AP) — A leading Venezuelan...   \n",
      "4        311  It’s been less than a month since Trump – afte...   \n",
      "\n",
      "  author_flair_text  created_utc               domain  num_comments  score  \\\n",
      "0                     1437509071             wsws.org             3     18   \n",
      "1                     1620141553  americanthinker.com            18    313   \n",
      "2                     1586381822       liveaction.org             0      1   \n",
      "3                     1399316632       news.yahoo.com             0      7   \n",
      "4                     1473095574         redstate.com            10     17   \n",
      "\n",
      "                                                 url       url_domain  \\\n",
      "0  http://www.wsws.org/en/articles/2015/07/21/cla...             wsws   \n",
      "1  https://www.americanthinker.com/blog/2021/05/v...  americanthinker   \n",
      "2  https://www.liveaction.org/news/woman-ambulanc...       liveaction   \n",
      "3  http://news.yahoo.com/paper-shortage-cuts-size...            yahoo   \n",
      "4  http://www.redstate.com/leon_h_wolf/2016/09/04...         redstate   \n",
      "\n",
      "      SubReddit  label  \n",
      "0  Conservative      1  \n",
      "1    Republican      1  \n",
      "2    Republican      1  \n",
      "3  Conservative      1  \n",
      "4    Republican      1  \n",
      "   WordCount                                            article  \\\n",
      "0        893  Front page layout Site theme Sign up or login ...   \n",
      "1        536  What the Alt-Right Understands About Winning E...   \n",
      "2        661  © 1998-2022 Nexstar Media Inc. All Rights Rese...   \n",
      "3       1027  Welcome, Christopher Paul Hasson, a Lieutenant...   \n",
      "4       1157  Text surrounded by asterisks (*) is italicized...   \n",
      "\n",
      "  author_flair_text  created_utc            domain  num_comments  score  \\\n",
      "0                     1491358039   arstechnica.com             3    208   \n",
      "1      Paul Krugman   1498021680     tabletmag.com             7     18   \n",
      "2               nan   1617385735       thehill.com             6    133   \n",
      "3                     1550789993  rollingstone.com             3     16   \n",
      "4                     1322270819        hubski.com             0      2   \n",
      "\n",
      "                                                 url    url_domain  \\\n",
      "0  https://arstechnica.com/tech-policy/2017/04/tr...   arstechnica   \n",
      "1  http://www.tabletmag.com/scroll/238157/what-th...     tabletmag   \n",
      "2  https://thehill.com/homenews/house/546127-boeh...       thehill   \n",
      "3  https://www.rollingstone.com/politics/politics...  rollingstone   \n",
      "4                      http://hubski.com/pub?id=9494        hubski   \n",
      "\n",
      "          SubReddit  label  \n",
      "0         democrats      0  \n",
      "1        neoliberal      0  \n",
      "2             obama      0  \n",
      "3         democrats      0  \n",
      "4  occupywallstreet      0  \n"
     ]
    }
   ],
   "source": [
    "with open(\"Conservative.json\", \"r\") as file:\n",
    "    con_data = json.load(file)\n",
    "\n",
    "with open(\"Liberal.json\", \"r\") as file:\n",
    "    lib_data = json.load(file)\n",
    "\n",
    "# Convert JSON to a DataFrame\n",
    "con_df = pd.DataFrame(con_data)\n",
    "lib_df = pd.DataFrame(lib_data)\n",
    "\n",
    "# Check the structure\n",
    "print(con_df.head())\n",
    "print(lib_df.head())"
   ]
  },
  {
   "cell_type": "markdown",
   "id": "3101fa73",
   "metadata": {},
   "source": [
    "### Hyperbolic Analysis"
   ]
  },
  {
   "cell_type": "code",
   "execution_count": null,
   "id": "170dcf23",
   "metadata": {},
   "outputs": [
    {
     "name": "stderr",
     "output_type": "stream",
     "text": [
      "Processing Conservative: 100%|██████████| 79573/79573 [00:06<00:00, 11678.06it/s]\n",
      "Processing Liberal: 100%|██████████| 72488/72488 [00:06<00:00, 11200.57it/s]\n"
     ]
    },
    {
     "name": "stdout",
     "output_type": "stream",
     "text": [
      "Average hyperbole ratio (Conservative): 0.007222175842296374\n",
      "Average hyperbole ratio (Liberal): 0.006699233366096231\n"
     ]
    }
   ],
   "source": [
    "# Define custom hyperbole lexicon\n",
    "custom_hyperbole_lexicon = set([\n",
    "    \"absolutely\", \"completely\", \"totally\", \"utterly\", \"extremely\", \"insanely\", \"incredibly\",\n",
    "    \"ridiculously\", \"unbelievably\", \"outrageously\", \"massively\", \"intensely\", \"tremendously\",\n",
    "    \"overwhelmingly\", \"beyond\", \"literally\",\n",
    "\n",
    "    \"amazing\", \"disgusting\", \"horrifying\", \"devastating\", \"glorious\", \"catastrophic\", \"unbelievable\",\n",
    "    \"outrageous\", \"ridiculous\", \"perfect\", \"pathetic\", \"flawless\", \"disastrous\", \"absurd\",\n",
    "    \"horrible\", \"insane\", \"genius\", \"monstrous\",\n",
    "\n",
    "    \"best\", \"worst\", \"greatest\", \"biggest\", \"most\", \"least\", \"highest\", \"lowest\", \"ultimate\",\n",
    "    \"never\", \"always\", \"forever\", \"all\", \"none\", \"every\", \"no one\", \"nothing\", \"everyone\", \"everything\"\n",
    "])\n",
    "\n",
    "# Function to count hyperbolic words and normalize\n",
    "def get_hyperbole_ratio(text):\n",
    "    try:\n",
    "        words = text.lower().split()\n",
    "        word_count = len(words)\n",
    "        if word_count == 0:\n",
    "            return 0.0\n",
    "        hyperbole_count = sum(1 for word in words if word in custom_hyperbole_lexicon)\n",
    "        return hyperbole_count / word_count\n",
    "    except:\n",
    "        return 0.0\n",
    "\n",
    "# Convert articles to list\n",
    "con_articles = con_df['article'].tolist()\n",
    "lib_articles = lib_df['article'].tolist()\n",
    "\n",
    "# Multiprocessing\n",
    "NUM_CORES = -1  # Use all available cores\n",
    "\n",
    "# Conservative\n",
    "con_ratios = Parallel(n_jobs=NUM_CORES)(\n",
    "    delayed(get_hyperbole_ratio)(text) for text in tqdm(con_articles, desc=\"Processing Conservative\")\n",
    ")\n",
    "\n",
    "# Liberal\n",
    "lib_ratios = Parallel(n_jobs=NUM_CORES)(\n",
    "    delayed(get_hyperbole_ratio)(text) for text in tqdm(lib_articles, desc=\"Processing Liberal\")\n",
    ")\n",
    "\n",
    "# Store back in the DataFrame\n",
    "con_df['hyperbole_ratio'] = con_ratios\n",
    "lib_df['hyperbole_ratio'] = lib_ratios\n",
    "\n",
    "# Print average ratios\n",
    "print(\"Average hyperbole ratio (Conservative):\", con_df['hyperbole_ratio'].mean())\n",
    "print(\"Average hyperbole ratio (Liberal):\", lib_df['hyperbole_ratio'].mean())\n",
    "\n"
   ]
  },
  {
   "cell_type": "markdown",
   "id": "9f6a0bd1",
   "metadata": {},
   "source": [
    "### t - test"
   ]
  },
  {
   "cell_type": "code",
   "execution_count": null,
   "id": "7c9901d1",
   "metadata": {},
   "outputs": [
    {
     "name": "stdout",
     "output_type": "stream",
     "text": [
      "T-statistic: 22.8763, P-value: 0.0000\n"
     ]
    }
   ],
   "source": [
    "t_stat, p_val = ttest_ind(con_df['hyperbole_ratio'], lib_df['hyperbole_ratio'], equal_var=False)\n",
    "print(f\"T-statistic: {t_stat:.4f}, P-value: {p_val:.4f}\")\n"
   ]
  },
  {
   "cell_type": "markdown",
   "id": "893bf588",
   "metadata": {},
   "source": [
    "### Plot Results"
   ]
  },
  {
   "cell_type": "code",
   "execution_count": 17,
   "id": "17be6d23",
   "metadata": {},
   "outputs": [
    {
     "name": "stderr",
     "output_type": "stream",
     "text": [
      "C:\\Users\\krist\\AppData\\Local\\Temp\\ipykernel_28904\\2714827328.py:2: FutureWarning: \n",
      "\n",
      "Passing `palette` without assigning `hue` is deprecated and will be removed in v0.14.0. Assign the `x` variable to `hue` and set `legend=False` for the same effect.\n",
      "\n",
      "  sns.violinplot(x='group', y='hyperbole_ratio', data=combined_df, palette=['#FF6347', '#4682B4'], cut=0)\n"
     ]
    },
    {
     "data": {
      "image/png": "[encoded data removed]",
      "text/plain": [
       "<Figure size 800x600 with 1 Axes>"
      ]
     },
     "metadata": {},
     "output_type": "display_data"
    }
   ],
   "source": [
    "plt.figure(figsize=(8, 6))\n",
    "sns.violinplot(x='group', y='hyperbole_ratio', data=combined_df, palette=['#FF6347', '#4682B4'], cut=0)\n",
    "\n",
    "plt.title('Distribution of Hyperbole Ratios by Political Community', fontsize=14)\n",
    "plt.xlabel('Community', fontsize=12)\n",
    "plt.ylabel('Hyperbole Ratio', fontsize=12)\n",
    "\n",
    "plt.tight_layout()\n",
    "plt.show()\n",
    "\n"
   ]
  },
  {
   "cell_type": "markdown",
   "id": "770556da",
   "metadata": {},
   "source": [
    "### Results Interpretation\n",
    "\n",
    "The conservative community has a higher ratio of hyperbolic language at 0.72% compared to the Liberal community at 0.67%. The p-value is 0.00, suggesting that the difference is unlikely to be due to random chance. The violin plot indicates that both Conservative and Liberal communities tend to use low levels of hyperbole overall, with Conservatives displaying a slightly higher average. Although both distributions exhibit long upper tails, which suggest the presence of a few posts with high hyperbole use, the overall spread and shape of the distributions remain quite similar between the two groups."
   ]
  }
 ],
 "metadata": {
  "kernelspec": {
   "display_name": "Python 3",
   "language": "python",
   "name": "python3"
  },
  "language_info": {
   "codemirror_mode": {
    "name": "ipython",
    "version": 3
   },
   "file_extension": ".py",
   "mimetype": "text/x-python",
   "name": "python",
   "nbconvert_exporter": "python",
   "pygments_lexer": "ipython3",
   "version": "3.11.5"
  }
 },
 "nbformat": 4,
 "nbformat_minor": 5
}
