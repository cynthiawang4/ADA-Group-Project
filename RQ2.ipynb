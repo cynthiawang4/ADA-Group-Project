{
 "cells": [
  {
   "cell_type": "markdown",
   "metadata": {},
   "source": [
    "# CISC 351/372 Advanced Data Analytics Group Project\n",
    "\n",
    "## Group 8: Political Sentiment Analysis In Liberal and Conservative Reddit Communities\n",
    "\n",
    "### RQ2: How does political sentiment differ between liberal and conservative Reddit communities?\n",
    "\n",
    "This notebook contains the code to answer the second research question."
   ]
  },
  {
   "cell_type": "markdown",
   "metadata": {},
   "source": [
    "## Imports"
   ]
  },
  {
   "cell_type": "code",
   "execution_count": null,
   "metadata": {},
   "outputs": [],
   "source": [
    "%pip install nrclex\n",
    "%pip install nltk NRCLex tqdm\n"
   ]
  },
  {
   "cell_type": "code",
   "execution_count": 3,
   "metadata": {},
   "outputs": [],
   "source": [
    "import json\n",
    "import pandas as pd\n",
    "\n",
    "from tqdm import tqdm\n",
    "from nrclex import NRCLex\n",
    "from concurrent.futures import ThreadPoolExecutor\n",
    "import os\n"
   ]
  },
  {
   "cell_type": "code",
   "execution_count": 1,
   "metadata": {},
   "outputs": [
    {
     "name": "stderr",
     "output_type": "stream",
     "text": [
      "[nltk_data] Downloading package punkt to\n",
      "[nltk_data]     C:\\Users\\krist\\AppData\\Roaming\\nltk_data...\n",
      "[nltk_data]   Unzipping tokenizers\\punkt.zip.\n"
     ]
    },
    {
     "data": {
      "text/plain": [
       "True"
      ]
     },
     "execution_count": 1,
     "metadata": {},
     "output_type": "execute_result"
    }
   ],
   "source": [
    "import nltk\n",
    "nltk.download('punkt')\n"
   ]
  },
  {
   "cell_type": "markdown",
   "metadata": {},
   "source": [
    "## Prepare Dataset"
   ]
  },
  {
   "cell_type": "code",
   "execution_count": 4,
   "metadata": {},
   "outputs": [
    {
     "name": "stdout",
     "output_type": "stream",
     "text": [
      "   WordCount                                            article  \\\n",
      "0       1101  Retired US Army General Wesley Clark called fo...   \n",
      "1       1312  If a place isn't too far gone to start with, t...   \n",
      "2        550  On Palm Sunday, the Trust Women Wichita aborti...   \n",
      "3        762  CARACAS, Venezuela (AP) — A leading Venezuelan...   \n",
      "4        311  It’s been less than a month since Trump – afte...   \n",
      "\n",
      "  author_flair_text  created_utc               domain  num_comments  score  \\\n",
      "0                     1437509071             wsws.org             3     18   \n",
      "1                     1620141553  americanthinker.com            18    313   \n",
      "2                     1586381822       liveaction.org             0      1   \n",
      "3                     1399316632       news.yahoo.com             0      7   \n",
      "4                     1473095574         redstate.com            10     17   \n",
      "\n",
      "                                                 url       url_domain  \\\n",
      "0  http://www.wsws.org/en/articles/2015/07/21/cla...             wsws   \n",
      "1  https://www.americanthinker.com/blog/2021/05/v...  americanthinker   \n",
      "2  https://www.liveaction.org/news/woman-ambulanc...       liveaction   \n",
      "3  http://news.yahoo.com/paper-shortage-cuts-size...            yahoo   \n",
      "4  http://www.redstate.com/leon_h_wolf/2016/09/04...         redstate   \n",
      "\n",
      "      SubReddit  label  \n",
      "0  Conservative      1  \n",
      "1    Republican      1  \n",
      "2    Republican      1  \n",
      "3  Conservative      1  \n",
      "4    Republican      1  \n",
      "   WordCount                                            article  \\\n",
      "0        893  Front page layout Site theme Sign up or login ...   \n",
      "1        536  What the Alt-Right Understands About Winning E...   \n",
      "2        661  © 1998-2022 Nexstar Media Inc. All Rights Rese...   \n",
      "3       1027  Welcome, Christopher Paul Hasson, a Lieutenant...   \n",
      "4       1157  Text surrounded by asterisks (*) is italicized...   \n",
      "\n",
      "  author_flair_text  created_utc            domain  num_comments  score  \\\n",
      "0                     1491358039   arstechnica.com             3    208   \n",
      "1      Paul Krugman   1498021680     tabletmag.com             7     18   \n",
      "2               nan   1617385735       thehill.com             6    133   \n",
      "3                     1550789993  rollingstone.com             3     16   \n",
      "4                     1322270819        hubski.com             0      2   \n",
      "\n",
      "                                                 url    url_domain  \\\n",
      "0  https://arstechnica.com/tech-policy/2017/04/tr...   arstechnica   \n",
      "1  http://www.tabletmag.com/scroll/238157/what-th...     tabletmag   \n",
      "2  https://thehill.com/homenews/house/546127-boeh...       thehill   \n",
      "3  https://www.rollingstone.com/politics/politics...  rollingstone   \n",
      "4                      http://hubski.com/pub?id=9494        hubski   \n",
      "\n",
      "          SubReddit  label  \n",
      "0         democrats      0  \n",
      "1        neoliberal      0  \n",
      "2             obama      0  \n",
      "3         democrats      0  \n",
      "4  occupywallstreet      0  \n"
     ]
    }
   ],
   "source": [
    "with open(\"Conservative.json\", \"r\") as file:\n",
    "    con_data = json.load(file)\n",
    "\n",
    "with open(\"Liberal.json\", \"r\") as file:\n",
    "    lib_data = json.load(file)\n",
    "\n",
    "# Convert JSON to a DataFrame\n",
    "con_df = pd.DataFrame(con_data)\n",
    "lib_df = pd.DataFrame(lib_data)\n",
    "\n",
    "# Check the structure\n",
    "print(con_df.head())\n",
    "print(lib_df.head())"
   ]
  },
  {
   "cell_type": "code",
   "execution_count": 5,
   "metadata": {},
   "outputs": [
    {
     "name": "stderr",
     "output_type": "stream",
     "text": [
      "100%|██████████| 80/80 [28:35<00:00, 21.45s/it]   \n",
      "100%|██████████| 73/73 [41:13<00:00, 33.88s/it]  \n"
     ]
    },
    {
     "name": "stdout",
     "output_type": "stream",
     "text": [
      "                                             article  \\\n",
      "0  Retired US Army General Wesley Clark called fo...   \n",
      "1  If a place isn't too far gone to start with, t...   \n",
      "2  On Palm Sunday, the Trust Women Wichita aborti...   \n",
      "3  CARACAS, Venezuela (AP) — A leading Venezuelan...   \n",
      "4  It’s been less than a month since Trump – afte...   \n",
      "\n",
      "                                            emotions  \n",
      "0  {'fear': 46, 'negative': 49, 'anger': 29, 'sad...  \n",
      "1  {'anticipation': 26, 'positive': 58, 'joy': 14...  \n",
      "2  {'disgust': 9, 'fear': 24, 'negative': 25, 'sa...  \n",
      "3  {'trust': 27, 'anger': 14, 'disgust': 4, 'fear...  \n",
      "4  {'fear': 5, 'negative': 11, 'sadness': 7, 'ant...  \n",
      "                                             article  \\\n",
      "0  Front page layout Site theme Sign up or login ...   \n",
      "1  What the Alt-Right Understands About Winning E...   \n",
      "2  © 1998-2022 Nexstar Media Inc. All Rights Rese...   \n",
      "3  Welcome, Christopher Paul Hasson, a Lieutenant...   \n",
      "4  Text surrounded by asterisks (*) is italicized...   \n",
      "\n",
      "                                            emotions  \n",
      "0  {'positive': 50, 'trust': 30, 'joy': 16, 'ange...  \n",
      "1  {'positive': 37, 'anticipation': 10, 'trust': ...  \n",
      "2  {'joy': 5, 'positive': 19, 'trust': 20, 'fear'...  \n",
      "3  {'anger': 32, 'negative': 52, 'positive': 24, ...  \n",
      "4  {'positive': 29, 'trust': 19, 'negative': 7, '...  \n"
     ]
    }
   ],
   "source": [
    "# Parameters\n",
    "BATCH_SIZE = 1000\n",
    "NUM_WORKERS = os.cpu_count()\n",
    "\n",
    "# Get just the article text\n",
    "con_articles = con_df['article'].tolist()\n",
    "lib_articles = lib_df['article'].tolist()\n",
    "\n",
    "def get_emotions(text):\n",
    "    try:\n",
    "        emotions = NRCLex(text)\n",
    "        return emotions.raw_emotion_scores\n",
    "    except Exception as e:\n",
    "        return {\"error\": str(e)}\n",
    "\n",
    "def process_batch(batch):\n",
    "    with ThreadPoolExecutor(max_workers=NUM_WORKERS) as executor:\n",
    "        return list(executor.map(get_emotions, batch))\n",
    "\n",
    "def process_articles(article_list):\n",
    "    all_results = []\n",
    "    for i in tqdm(range(0, len(article_list), BATCH_SIZE)):\n",
    "        batch = article_list[i:i+BATCH_SIZE]\n",
    "        results = process_batch(batch)\n",
    "        all_results.extend(results)\n",
    "    return all_results\n",
    "\n",
    "# Process both datasets\n",
    "con_emotions = process_articles(con_articles)\n",
    "lib_emotions = process_articles(lib_articles)\n",
    "\n",
    "# Optionally add results to the original DataFrames\n",
    "con_df['emotions'] = con_emotions\n",
    "lib_df['emotions'] = lib_emotions\n",
    "\n",
    "print(con_df[['article', 'emotions']].head())\n",
    "print(lib_df[['article', 'emotions']].head())\n"
   ]
  },
  {
   "cell_type": "code",
   "execution_count": 6,
   "metadata": {},
   "outputs": [
    {
     "data": {
      "text/html": [
       "<div>\n",
       "<style scoped>\n",
       "    .dataframe tbody tr th:only-of-type {\n",
       "        vertical-align: middle;\n",
       "    }\n",
       "\n",
       "    .dataframe tbody tr th {\n",
       "        vertical-align: top;\n",
       "    }\n",
       "\n",
       "    .dataframe thead th {\n",
       "        text-align: right;\n",
       "    }\n",
       "</style>\n",
       "<table border=\"1\" class=\"dataframe\">\n",
       "  <thead>\n",
       "    <tr style=\"text-align: right;\">\n",
       "      <th></th>\n",
       "      <th>Conservative</th>\n",
       "      <th>Liberal</th>\n",
       "      <th>Conservative %</th>\n",
       "      <th>Liberal %</th>\n",
       "    </tr>\n",
       "  </thead>\n",
       "  <tbody>\n",
       "    <tr>\n",
       "      <th>positive</th>\n",
       "      <td>4283760</td>\n",
       "      <td>7889828</td>\n",
       "      <td>0.214211</td>\n",
       "      <td>0.233967</td>\n",
       "    </tr>\n",
       "    <tr>\n",
       "      <th>negative</th>\n",
       "      <td>3213129</td>\n",
       "      <td>5098422</td>\n",
       "      <td>0.160674</td>\n",
       "      <td>0.151190</td>\n",
       "    </tr>\n",
       "    <tr>\n",
       "      <th>trust</th>\n",
       "      <td>2968177</td>\n",
       "      <td>5085007</td>\n",
       "      <td>0.148425</td>\n",
       "      <td>0.150792</td>\n",
       "    </tr>\n",
       "    <tr>\n",
       "      <th>fear</th>\n",
       "      <td>2001194</td>\n",
       "      <td>3028470</td>\n",
       "      <td>0.100070</td>\n",
       "      <td>0.089807</td>\n",
       "    </tr>\n",
       "    <tr>\n",
       "      <th>anticipation</th>\n",
       "      <td>1784199</td>\n",
       "      <td>3240020</td>\n",
       "      <td>0.089220</td>\n",
       "      <td>0.096081</td>\n",
       "    </tr>\n",
       "  </tbody>\n",
       "</table>\n",
       "</div>"
      ],
      "text/plain": [
       "              Conservative  Liberal  Conservative %  Liberal %\n",
       "positive           4283760  7889828        0.214211   0.233967\n",
       "negative           3213129  5098422        0.160674   0.151190\n",
       "trust              2968177  5085007        0.148425   0.150792\n",
       "fear               2001194  3028470        0.100070   0.089807\n",
       "anticipation       1784199  3240020        0.089220   0.096081"
      ]
     },
     "metadata": {},
     "output_type": "display_data"
    },
    {
     "data": {
      "text/html": [
       "<div>\n",
       "<style scoped>\n",
       "    .dataframe tbody tr th:only-of-type {\n",
       "        vertical-align: middle;\n",
       "    }\n",
       "\n",
       "    .dataframe tbody tr th {\n",
       "        vertical-align: top;\n",
       "    }\n",
       "\n",
       "    .dataframe thead th {\n",
       "        text-align: right;\n",
       "    }\n",
       "</style>\n",
       "<table border=\"1\" class=\"dataframe\">\n",
       "  <thead>\n",
       "    <tr style=\"text-align: right;\">\n",
       "      <th></th>\n",
       "      <th>Conservative</th>\n",
       "      <th>Liberal</th>\n",
       "      <th>Conservative %</th>\n",
       "      <th>Liberal %</th>\n",
       "    </tr>\n",
       "  </thead>\n",
       "  <tbody>\n",
       "    <tr>\n",
       "      <th>positive</th>\n",
       "      <td>4283760</td>\n",
       "      <td>7889828</td>\n",
       "      <td>0.214211</td>\n",
       "      <td>0.233967</td>\n",
       "    </tr>\n",
       "    <tr>\n",
       "      <th>negative</th>\n",
       "      <td>3213129</td>\n",
       "      <td>5098422</td>\n",
       "      <td>0.160674</td>\n",
       "      <td>0.151190</td>\n",
       "    </tr>\n",
       "    <tr>\n",
       "      <th>trust</th>\n",
       "      <td>2968177</td>\n",
       "      <td>5085007</td>\n",
       "      <td>0.148425</td>\n",
       "      <td>0.150792</td>\n",
       "    </tr>\n",
       "    <tr>\n",
       "      <th>anticipation</th>\n",
       "      <td>1784199</td>\n",
       "      <td>3240020</td>\n",
       "      <td>0.089220</td>\n",
       "      <td>0.096081</td>\n",
       "    </tr>\n",
       "    <tr>\n",
       "      <th>fear</th>\n",
       "      <td>2001194</td>\n",
       "      <td>3028470</td>\n",
       "      <td>0.100070</td>\n",
       "      <td>0.089807</td>\n",
       "    </tr>\n",
       "  </tbody>\n",
       "</table>\n",
       "</div>"
      ],
      "text/plain": [
       "              Conservative  Liberal  Conservative %  Liberal %\n",
       "positive           4283760  7889828        0.214211   0.233967\n",
       "negative           3213129  5098422        0.160674   0.151190\n",
       "trust              2968177  5085007        0.148425   0.150792\n",
       "anticipation       1784199  3240020        0.089220   0.096081\n",
       "fear               2001194  3028470        0.100070   0.089807"
      ]
     },
     "metadata": {},
     "output_type": "display_data"
    }
   ],
   "source": [
    "import pandas as pd\n",
    "from collections import Counter\n",
    "import matplotlib.pyplot as plt\n",
    "\n",
    "# Helper function to combine all emotion scores\n",
    "def aggregate_emotions(emotion_series):\n",
    "    total = Counter()\n",
    "    for emo_dict in emotion_series:\n",
    "        total.update(emo_dict)\n",
    "    return total\n",
    "\n",
    "# Aggregate all emotions for each subreddit\n",
    "con_total = aggregate_emotions(con_df['emotions'])\n",
    "lib_total = aggregate_emotions(lib_df['emotions'])\n",
    "\n",
    "# Convert to DataFrame for comparison\n",
    "emotion_df = pd.DataFrame({\n",
    "    \"Conservative\": pd.Series(con_total),\n",
    "    \"Liberal\": pd.Series(lib_total)\n",
    "}).fillna(0)\n",
    "\n",
    "# Normalize (optional: to compare proportions)\n",
    "emotion_df['Conservative %'] = emotion_df['Conservative'] / emotion_df['Conservative'].sum()\n",
    "emotion_df['Liberal %'] = emotion_df['Liberal'] / emotion_df['Liberal'].sum()\n",
    "\n",
    "# Show top 5 emotions by count in each subreddit\n",
    "top_con = emotion_df.sort_values(\"Conservative\", ascending=False).head(5)\n",
    "top_lib = emotion_df.sort_values(\"Liberal\", ascending=False).head(5)\n",
    "\n",
    "display(top_con)\n",
    "display(top_lib)\n"
   ]
  },
  {
   "cell_type": "code",
   "execution_count": null,
   "metadata": {},
   "outputs": [
    {
     "data": {
      "image/png": "[encoded data removed]",
      "text/plain": [
       "<Figure size 1000x600 with 1 Axes>"
      ]
     },
     "metadata": {},
     "output_type": "display_data"
    }
   ],
   "source": [
    "# Plotting the percentage-based bar chart for all emotions\n",
    "emotion_df[['Conservative %', 'Liberal %']].plot(kind='bar', figsize=(12,8), width=0.8, colormap='coolwarm')\n",
    "plt.title(\"All Emotions by Subreddit (Percentage)\")\n",
    "plt.xlabel(\"Emotion\")\n",
    "plt.ylabel(\"Percentage (%)\")\n",
    "plt.xticks(rotation=45)\n",
    "plt.legend(title=\"Subreddit\")\n",
    "plt.tight_layout()\n",
    "plt.show()\n",
    "\n",
    "\n"
   ]
  }
 ],
 "metadata": {
  "kernelspec": {
   "display_name": "Python 3",
   "language": "python",
   "name": "python3"
  },
  "language_info": {
   "codemirror_mode": {
    "name": "ipython",
    "version": 3
   },
   "file_extension": ".py",
   "mimetype": "text/x-python",
   "name": "python",
   "nbconvert_exporter": "python",
   "pygments_lexer": "ipython3",
   "version": "3.11.5"
  }
 },
 "nbformat": 4,
 "nbformat_minor": 2
}
