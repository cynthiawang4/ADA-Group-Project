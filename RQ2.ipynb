{
 "cells": [
  {
   "cell_type": "markdown",
   "metadata": {},
   "source": [
    "# CISC 351/372 Advanced Data Analytics Group Project\n",
    "\n",
    "## Group 8: Political Sentiment Analysis In Liberal and Conservative Reddit Communities\n",
    "\n",
    "### RQ2: How does political sentiment differ between liberal and conservative Reddit communities?\n",
    "\n",
    "This notebook contains the code to answer the second research question."
   ]
  }
 ],
 "metadata": {
  "language_info": {
   "name": "python"
  }
 },
 "nbformat": 4,
 "nbformat_minor": 2
}
